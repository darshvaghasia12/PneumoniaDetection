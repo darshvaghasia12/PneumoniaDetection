{
  "nbformat": 4,
  "nbformat_minor": 0,
  "metadata": {
    "colab": {
      "name": "predict_image_16.ipynb",
      "provenance": [],
      "collapsed_sections": [],
      "include_colab_link": true
    },
    "kernelspec": {
      "name": "python3",
      "display_name": "Python 3"
    }
  },
  "cells": [
    {
      "cell_type": "markdown",
      "metadata": {
        "id": "view-in-github",
        "colab_type": "text"
      },
      "source": [
        "<a href=\"https://colab.research.google.com/github/darshvaghasia12/PneumoniaDetection/blob/main/predict_image_16.ipynb\" target=\"_parent\"><img src=\"https://colab.research.google.com/assets/colab-badge.svg\" alt=\"Open In Colab\"/></a>"
      ]
    },
    {
      "cell_type": "code",
      "metadata": {
        "id": "EEy958NpaclI",
        "colab": {
          "base_uri": "https://localhost:8080/"
        },
        "outputId": "ebcae135-8c22-4009-91f0-d0f1c80d7e96"
      },
      "source": [
        "from google.colab import drive\n",
        "drive.mount('/content/drive')"
      ],
      "execution_count": null,
      "outputs": [
        {
          "output_type": "stream",
          "text": [
            "Drive already mounted at /content/drive; to attempt to forcibly remount, call drive.mount(\"/content/drive\", force_remount=True).\n"
          ],
          "name": "stdout"
        }
      ]
    },
    {
      "cell_type": "code",
      "metadata": {
        "id": "Q5beKiOHanvd",
        "colab": {
          "base_uri": "https://localhost:8080/"
        },
        "outputId": "ab07d1d9-1a6e-4682-a897-1fda74346334"
      },
      "source": [
        "ls"
      ],
      "execution_count": null,
      "outputs": [
        {
          "output_type": "stream",
          "text": [
            " \u001b[0m\u001b[01;34mDatasets\u001b[0m/            predict_image.ipynb\n",
            " LossVal_loss.png     predict.ipynb\n",
            "'LossVal_loss@.png'  'Transfer Learning VGG 16.ipynb'\n",
            " model_vgg16.h5      'Transfer Learning VGG 19.ipynb'\n",
            " model_vgg19.h5       \u001b[01;34mval\u001b[0m/\n"
          ],
          "name": "stdout"
        }
      ]
    },
    {
      "cell_type": "code",
      "metadata": {
        "id": "-0X0R9rUa2VO",
        "colab": {
          "base_uri": "https://localhost:8080/"
        },
        "outputId": "d90f32e1-9079-467b-e3b8-ce8a21180469"
      },
      "source": [
        "cd drive"
      ],
      "execution_count": null,
      "outputs": [
        {
          "output_type": "stream",
          "text": [
            "[Errno 2] No such file or directory: 'drive'\n",
            "/content/drive/My Drive/Pneumonia\n"
          ],
          "name": "stdout"
        }
      ]
    },
    {
      "cell_type": "code",
      "metadata": {
        "id": "a7jkMyAqa3Mu",
        "colab": {
          "base_uri": "https://localhost:8080/"
        },
        "outputId": "33810a86-eb65-4138-a7f8-d98c61f35c9e"
      },
      "source": [
        "ls"
      ],
      "execution_count": null,
      "outputs": [
        {
          "output_type": "stream",
          "text": [
            " \u001b[0m\u001b[01;34mDatasets\u001b[0m/            predict_image.ipynb\n",
            " LossVal_loss.png     predict.ipynb\n",
            "'LossVal_loss@.png'  'Transfer Learning VGG 16.ipynb'\n",
            " model_vgg16.h5      'Transfer Learning VGG 19.ipynb'\n",
            " model_vgg19.h5       \u001b[01;34mval\u001b[0m/\n"
          ],
          "name": "stdout"
        }
      ]
    },
    {
      "cell_type": "code",
      "metadata": {
        "id": "8lhZrYDsa33c",
        "colab": {
          "base_uri": "https://localhost:8080/"
        },
        "outputId": "edd9b916-bcf1-4627-8103-c4c0ad98b1eb"
      },
      "source": [
        "cd My\\ Drive"
      ],
      "execution_count": null,
      "outputs": [
        {
          "output_type": "stream",
          "text": [
            "[Errno 2] No such file or directory: 'My Drive'\n",
            "/content/drive/My Drive/Pneumonia\n"
          ],
          "name": "stdout"
        }
      ]
    },
    {
      "cell_type": "code",
      "metadata": {
        "id": "DnzSHMGSa4xs",
        "colab": {
          "base_uri": "https://localhost:8080/"
        },
        "outputId": "f5630a43-b101-41ce-acc0-1f69488bc945"
      },
      "source": [
        "cd Pneumonia"
      ],
      "execution_count": null,
      "outputs": [
        {
          "output_type": "stream",
          "text": [
            "[Errno 2] No such file or directory: 'Pneumonia'\n",
            "/content/drive/My Drive/Pneumonia\n"
          ],
          "name": "stdout"
        }
      ]
    },
    {
      "cell_type": "code",
      "metadata": {
        "id": "LcTGZWaJa6E3"
      },
      "source": [
        "from keras.models import load_model\n",
        "from keras.preprocessing import image\n",
        "from keras.applications.vgg16 import preprocess_input\n",
        "import numpy as np"
      ],
      "execution_count": null,
      "outputs": []
    },
    {
      "cell_type": "code",
      "metadata": {
        "id": "8Uc58B5ZbJph"
      },
      "source": [
        "model = load_model('model_vgg16.h5')"
      ],
      "execution_count": null,
      "outputs": []
    },
    {
      "cell_type": "code",
      "metadata": {
        "id": "YcKHbh_ubt_x"
      },
      "source": [
        "img = image.load_img('val/NORMAL/NORMAL2-IM-1427-0001.jpeg',target_size=(224,224))"
      ],
      "execution_count": null,
      "outputs": []
    },
    {
      "cell_type": "code",
      "metadata": {
        "id": "l4yke5CZcE3A"
      },
      "source": [
        "x = image.img_to_array(img)\n",
        "x = np.expand_dims(x, axis=0)"
      ],
      "execution_count": null,
      "outputs": []
    },
    {
      "cell_type": "code",
      "metadata": {
        "id": "dNZ2T-AJcRNV"
      },
      "source": [
        "img_data = preprocess_input(x)"
      ],
      "execution_count": null,
      "outputs": []
    },
    {
      "cell_type": "code",
      "metadata": {
        "id": "CMFH3XjmcWDK"
      },
      "source": [
        "classes = model.predict(img_data)"
      ],
      "execution_count": null,
      "outputs": []
    },
    {
      "cell_type": "code",
      "metadata": {
        "id": "tOuC5NQRcaMF",
        "colab": {
          "base_uri": "https://localhost:8080/"
        },
        "outputId": "b1fa59a7-f22e-4d98-e841-df9feb027841"
      },
      "source": [
        "print(classes)"
      ],
      "execution_count": null,
      "outputs": [
        {
          "output_type": "stream",
          "text": [
            "[[1. 0.]]\n"
          ],
          "name": "stdout"
        }
      ]
    },
    {
      "cell_type": "code",
      "metadata": {
        "id": "giEXNwbwceku",
        "colab": {
          "base_uri": "https://localhost:8080/"
        },
        "outputId": "99bf426d-52b6-46a7-f09c-b58052a8e166"
      },
      "source": [
        "if classes[0,0] == 0.0:\n",
        "  print(\"Pneumonia\")\n",
        "else:\n",
        "  print(\"Normal\")"
      ],
      "execution_count": null,
      "outputs": [
        {
          "output_type": "stream",
          "text": [
            "Normal\n"
          ],
          "name": "stdout"
        }
      ]
    },
    {
      "cell_type": "code",
      "metadata": {
        "id": "jNlBYBSFKyJS"
      },
      "source": [
        ""
      ],
      "execution_count": null,
      "outputs": []
    }
  ]
}